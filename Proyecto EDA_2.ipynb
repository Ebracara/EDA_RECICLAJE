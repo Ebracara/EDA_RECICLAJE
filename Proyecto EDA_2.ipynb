{
 "cells": [
  {
   "cell_type": "markdown",
   "id": "b11c2540",
   "metadata": {},
   "source": [
    " <H1> <span style=\"color:blue;\"><B>PROYECTO EDA</span></h1>\n",
    "\n",
    " <H2> <span style=\"color:orange;\"><B>¿La pandemia nos cambió?</span></h2>\n",
    "\n",
    "### Hábitos de reciclaje después de la pandemia.\n",
    "#### Quiero centrarme en los 4 elementos que más habituados estamos al reciclaje: **Vidrio, Papel y cartón, plástico y orgánico**.\n",
    "\n",
    "\n",
    "\n"
   ]
  },
  {
   "cell_type": "markdown",
   "id": "530738bd",
   "metadata": {},
   "source": [
    "<h3><u>1. Importación de librerias</u></h3>"
   ]
  },
  {
   "cell_type": "markdown",
   "id": "7a8f457e",
   "metadata": {},
   "source": [
    "### Archivo obtenido del Ayuntamiento de Donostia."
   ]
  },
  {
   "cell_type": "code",
   "execution_count": 76,
   "id": "aabee4bc",
   "metadata": {},
   "outputs": [],
   "source": [
    "import pandas as pd\n",
    "import seaborn as sns\n",
    "import matplotlib.pyplot as plt\n",
    "import numpy as np\n"
   ]
  },
  {
   "cell_type": "markdown",
   "id": "d528f6e2",
   "metadata": {},
   "source": [
    "<h3><u>2. Carga del Dataset</u></h3>"
   ]
  },
  {
   "cell_type": "markdown",
   "id": "c2293e81",
   "metadata": {},
   "source": [
    "Se han realizado algunos cambios utilizando PowerQuery, ya que la tabla obtenida en la página de [datos.gob.es](www.datos.gob.es) no mostraba de forma correcta los datos para su lectura y estudio."
   ]
  },
  {
   "cell_type": "code",
   "execution_count": 80,
   "id": "f7c5344b",
   "metadata": {},
   "outputs": [],
   "source": [
    "df = pd.read_csv(\"Residuos.csv\")\n"
   ]
  },
  {
   "cell_type": "markdown",
   "id": "0afae300",
   "metadata": {},
   "source": [
    "<h3><u>3. Preparación de la tabla</u></h3>"
   ]
  },
  {
   "cell_type": "code",
   "execution_count": 81,
   "id": "92fa913b",
   "metadata": {},
   "outputs": [],
   "source": [
    "df =df.rename(columns={\"Tipo de recogida\":\"Tipo\"})"
   ]
  },
  {
   "cell_type": "code",
   "execution_count": 82,
   "id": "9c30acc7",
   "metadata": {},
   "outputs": [],
   "source": [
    "#Se van a eliminar algunas columnas que están en Euskera, ya que la presentación \n",
    "#se realizará en castellano.\n",
    "df=df.drop([\"Bilketa mota\",\"Sailkapena\",\"Azpisailkapena\",\"Eremua\"], axis=1)\n"
   ]
  },
  {
   "cell_type": "code",
   "execution_count": null,
   "id": "9c63729b",
   "metadata": {},
   "outputs": [],
   "source": [
    "df.info()\n"
   ]
  },
  {
   "cell_type": "markdown",
   "id": "6deeee9a",
   "metadata": {},
   "source": [
    "<h3><u>4. Preparación de gráficos</u></h3>\n",
    "\n",
    "<h4> <span style=\"color:orange;\"><B>4.1 Gráfico de Residuos de Papel y Cartón en ámbitos Urbanos</span></h4>\n",
    "\n",
    "#### Se realiza un nuevo dataframe con la información que queremos visualizar; en este caso se trata de residuos de papel y cartón en el ámbito urbano. Además se sumará el total de kg para realizar más adelante una comparativa.\n"
   ]
  },
  {
   "cell_type": "code",
   "execution_count": 69,
   "id": "861741f9",
   "metadata": {},
   "outputs": [],
   "source": [
    "#Creamos una dataset para visualizar los datos por Clasificación \"Orgánica\" en la ámbito urbano.\n",
    "df_organica = df.query(\"Clasificación =='Papel/cartón' and Ambito=='URBANO'\")\n",
    "df_organica_t = df_organica.groupby(\"Año\")[\"Total (kg)\"].sum()\n",
    "df_organica_t=df_organica_t.reset_index()\n"
   ]
  },
  {
   "cell_type": "markdown",
   "id": "2cc963ae",
   "metadata": {},
   "source": [
    "Realización del gráfico de barras."
   ]
  },
  {
   "cell_type": "code",
   "execution_count": 70,
   "id": "90c750df",
   "metadata": {},
   "outputs": [
    {
     "data": {
      "text/plain": [
       "<function matplotlib.pyplot.show(close=None, block=None)>"
      ]
     },
     "execution_count": 70,
     "metadata": {},
     "output_type": "execute_result"
    },
    {
     "data": {
      "image/png": "[encoded data removed]",
      "text/plain": [
       "<Figure size 640x480 with 1 Axes>"
      ]
     },
     "metadata": {},
     "output_type": "display_data"
    }
   ],
   "source": [
    "plt.bar(df_organica_t[\"Año\"], df_organica_t[\"Total (kg)\"], color=\"green\")\n",
    "plt.ylim(0, 12000000)\n",
    "plt.title(\"Residuos de Papel y cartón - Urbanos por Año (Millones)\")\n",
    "plt.ylabel(\"Total (kg)\")\n",
    "plt.xlabel(\"Año\")\n",
    "plt.grid(axis=\"y\", linestyle=\"-\", alpha=0.7)\n",
    "plt.show\n"
   ]
  },
  {
   "cell_type": "markdown",
   "id": "527c503d",
   "metadata": {},
   "source": [
    "Cálculo del Total Kg de Residuos de papel y cartón en el ámbito urbano."
   ]
  },
  {
   "cell_type": "code",
   "execution_count": 71,
   "id": "a85c271f",
   "metadata": {},
   "outputs": [
    {
     "data": {
      "text/plain": [
       "np.float64(152573585.0)"
      ]
     },
     "execution_count": 71,
     "metadata": {},
     "output_type": "execute_result"
    }
   ],
   "source": [
    "#Cálculo del total\n",
    "Total_Residuos_Urbanos=df_organica_t[\"Total_Residuos(kg)\"]=df_organica[\"Total (kg)\"].sum()\n",
    "Total_Residuos_Urbanos"
   ]
  },
  {
   "cell_type": "code",
   "execution_count": 72,
   "id": "f556ff8f",
   "metadata": {},
   "outputs": [
    {
     "data": {
      "text/plain": [
       "np.float64(9428711.0)"
      ]
     },
     "execution_count": 72,
     "metadata": {},
     "output_type": "execute_result"
    }
   ],
   "source": [
    "#Cálculo del último año 2024\n",
    "Total_Residuos_Urbanos=df_organica_t[df_organica_t[\"Año\"]==2024][\"Total (kg)\"].sum()\n",
    "Total_Residuos_Urbanos"
   ]
  },
  {
   "cell_type": "markdown",
   "id": "35ad6332",
   "metadata": {},
   "source": [
    "Creación del DataFrame para el ámbito Industrial."
   ]
  },
  {
   "cell_type": "code",
   "execution_count": 73,
   "id": "3a3d448c",
   "metadata": {},
   "outputs": [],
   "source": [
    "df_organica_i = df.query(\"Clasificación =='Papel/cartón' and Ambito=='INDUSTRIAL'\")\n",
    "df_organica_it = df_organica_i.groupby(\"Año\")[\"Total (kg)\"].sum()\n",
    "df_organica_it=df_organica_it.reset_index()\n",
    "\n"
   ]
  },
  {
   "cell_type": "markdown",
   "id": "023fe9fc",
   "metadata": {},
   "source": [
    "Creación del gráfico de barras."
   ]
  },
  {
   "cell_type": "code",
   "execution_count": 74,
   "id": "fe42d91b",
   "metadata": {},
   "outputs": [
    {
     "data": {
      "text/plain": [
       "<function matplotlib.pyplot.show(close=None, block=None)>"
      ]
     },
     "execution_count": 74,
     "metadata": {},
     "output_type": "execute_result"
    },
    {
     "data": {
      "image/png": "[encoded data removed]",
      "text/plain": [
       "<Figure size 640x480 with 1 Axes>"
      ]
     },
     "metadata": {},
     "output_type": "display_data"
    }
   ],
   "source": [
    "plt.bar(df_organica_it[\"Año\"], df_organica_it[\"Total (kg)\"], color=\"green\")\n",
    "plt.ylim(0, 12000000)\n",
    "plt.title(\"Residuos de Papel y cartón - Industrial por Año (Millones)\")\n",
    "plt.ylabel(\"Total (kg)\")\n",
    "plt.xlabel(\"Año\")\n",
    "plt.grid(axis=\"y\", linestyle=\"-\", alpha=0.7)\n",
    "plt.show"
   ]
  },
  {
   "cell_type": "markdown",
   "id": "74f5dc27",
   "metadata": {},
   "source": [
    "<h4> <span style=\"color:orange;\"><B>4.2 Gráfico de Residuos de vidrio</span></h4>"
   ]
  },
  {
   "cell_type": "code",
   "execution_count": 15,
   "id": "e03f1027",
   "metadata": {},
   "outputs": [
    {
     "data": {
      "text/html": [
       "<div>\n",
       "<style scoped>\n",
       "    .dataframe tbody tr th:only-of-type {\n",
       "        vertical-align: middle;\n",
       "    }\n",
       "\n",
       "    .dataframe tbody tr th {\n",
       "        vertical-align: top;\n",
       "    }\n",
       "\n",
       "    .dataframe thead th {\n",
       "        text-align: right;\n",
       "    }\n",
       "</style>\n",
       "<table border=\"1\" class=\"dataframe\">\n",
       "  <thead>\n",
       "    <tr style=\"text-align: right;\">\n",
       "      <th></th>\n",
       "      <th>Año</th>\n",
       "      <th>Tipo</th>\n",
       "      <th>Clasificación</th>\n",
       "      <th>Subclasificación</th>\n",
       "      <th>Ambito</th>\n",
       "      <th>Total (kg)</th>\n",
       "    </tr>\n",
       "  </thead>\n",
       "  <tbody>\n",
       "    <tr>\n",
       "      <th>0</th>\n",
       "      <td>2010</td>\n",
       "      <td>Autocompostaje</td>\n",
       "      <td>Autocompostaje</td>\n",
       "      <td>Autocompostaje</td>\n",
       "      <td>NaN</td>\n",
       "      <td>325099.0</td>\n",
       "    </tr>\n",
       "    <tr>\n",
       "      <th>1</th>\n",
       "      <td>2010</td>\n",
       "      <td>Recogida selectiva</td>\n",
       "      <td>Orgánica</td>\n",
       "      <td>Contenedores via pública</td>\n",
       "      <td>URBANO</td>\n",
       "      <td>310340.0</td>\n",
       "    </tr>\n",
       "    <tr>\n",
       "      <th>2</th>\n",
       "      <td>2010</td>\n",
       "      <td>Recogida selectiva</td>\n",
       "      <td>Orgánica</td>\n",
       "      <td>Otros productores (Merkabugati)</td>\n",
       "      <td>URBANO</td>\n",
       "      <td>0.0</td>\n",
       "    </tr>\n",
       "    <tr>\n",
       "      <th>3</th>\n",
       "      <td>2010</td>\n",
       "      <td>Recogida selectiva</td>\n",
       "      <td>Orgánica</td>\n",
       "      <td>Recogida comercial e industrial</td>\n",
       "      <td>INDUSTRIAL</td>\n",
       "      <td>0.0</td>\n",
       "    </tr>\n",
       "    <tr>\n",
       "      <th>4</th>\n",
       "      <td>2010</td>\n",
       "      <td>Recogida selectiva</td>\n",
       "      <td>Papel/cartón</td>\n",
       "      <td>Contenedores vía pública. Recogida lateral</td>\n",
       "      <td>URBANO</td>\n",
       "      <td>7517285.0</td>\n",
       "    </tr>\n",
       "    <tr>\n",
       "      <th>...</th>\n",
       "      <td>...</td>\n",
       "      <td>...</td>\n",
       "      <td>...</td>\n",
       "      <td>...</td>\n",
       "      <td>...</td>\n",
       "      <td>...</td>\n",
       "    </tr>\n",
       "    <tr>\n",
       "      <th>867</th>\n",
       "      <td>2024</td>\n",
       "      <td>Rechazo</td>\n",
       "      <td>Rechazo</td>\n",
       "      <td>Recogida comercial e industrial (inerte)</td>\n",
       "      <td>INDUSTRIAL</td>\n",
       "      <td>156080.0</td>\n",
       "    </tr>\n",
       "    <tr>\n",
       "      <th>868</th>\n",
       "      <td>2024</td>\n",
       "      <td>Rechazo</td>\n",
       "      <td>Rechazo</td>\n",
       "      <td>Asentamiento incontrolado</td>\n",
       "      <td>URBANO</td>\n",
       "      <td>0.0</td>\n",
       "    </tr>\n",
       "    <tr>\n",
       "      <th>869</th>\n",
       "      <td>2024</td>\n",
       "      <td>Rechazo</td>\n",
       "      <td>Limpieza viaria</td>\n",
       "      <td>Limpieza viaria ayuntamiento</td>\n",
       "      <td>URBANO</td>\n",
       "      <td>2245860.0</td>\n",
       "    </tr>\n",
       "    <tr>\n",
       "      <th>870</th>\n",
       "      <td>2024</td>\n",
       "      <td>Rechazo</td>\n",
       "      <td>Limpieza viaria</td>\n",
       "      <td>Limpieza playas</td>\n",
       "      <td>URBANO</td>\n",
       "      <td>359900.0</td>\n",
       "    </tr>\n",
       "    <tr>\n",
       "      <th>871</th>\n",
       "      <td>2024</td>\n",
       "      <td>Rechazo</td>\n",
       "      <td>Limpieza viaria</td>\n",
       "      <td>Mezcla orgánica ayuntamiento</td>\n",
       "      <td>URBANO</td>\n",
       "      <td>0.0</td>\n",
       "    </tr>\n",
       "  </tbody>\n",
       "</table>\n",
       "<p>872 rows × 6 columns</p>\n",
       "</div>"
      ],
      "text/plain": [
       "      Año                Tipo    Clasificación  \\\n",
       "0    2010      Autocompostaje   Autocompostaje   \n",
       "1    2010  Recogida selectiva         Orgánica   \n",
       "2    2010  Recogida selectiva         Orgánica   \n",
       "3    2010  Recogida selectiva         Orgánica   \n",
       "4    2010  Recogida selectiva     Papel/cartón   \n",
       "..    ...                 ...              ...   \n",
       "867  2024             Rechazo      Rechazo       \n",
       "868  2024             Rechazo      Rechazo       \n",
       "869  2024             Rechazo  Limpieza viaria   \n",
       "870  2024             Rechazo  Limpieza viaria   \n",
       "871  2024             Rechazo  Limpieza viaria   \n",
       "\n",
       "                               Subclasificación      Ambito  Total (kg)  \n",
       "0                                Autocompostaje         NaN    325099.0  \n",
       "1                      Contenedores via pública      URBANO    310340.0  \n",
       "2               Otros productores (Merkabugati)      URBANO         0.0  \n",
       "3               Recogida comercial e industrial  INDUSTRIAL         0.0  \n",
       "4    Contenedores vía pública. Recogida lateral      URBANO   7517285.0  \n",
       "..                                          ...         ...         ...  \n",
       "867    Recogida comercial e industrial (inerte)  INDUSTRIAL    156080.0  \n",
       "868                   Asentamiento incontrolado      URBANO         0.0  \n",
       "869                Limpieza viaria ayuntamiento      URBANO   2245860.0  \n",
       "870                             Limpieza playas      URBANO    359900.0  \n",
       "871                Mezcla orgánica ayuntamiento      URBANO         0.0  \n",
       "\n",
       "[872 rows x 6 columns]"
      ]
     },
     "execution_count": 15,
     "metadata": {},
     "output_type": "execute_result"
    }
   ],
   "source": [
    "df"
   ]
  },
  {
   "cell_type": "code",
   "execution_count": 22,
   "id": "9e1bbf56",
   "metadata": {},
   "outputs": [],
   "source": [
    "df_vidrio= df.query(\"Clasificación =='Vidrio' and Tipo=='Recogida selectiva'\")\n",
    "df_vidrio_t = df_vidrio.groupby(\"Año\")[\"Total (kg)\"].sum()\n",
    "df_vidrio_it=df_vidrio_t.reset_index()\n"
   ]
  },
  {
   "cell_type": "code",
   "execution_count": 20,
   "id": "e0e447c1",
   "metadata": {},
   "outputs": [
    {
     "data": {
      "text/plain": [
       "<function matplotlib.pyplot.show(close=None, block=None)>"
      ]
     },
     "execution_count": 20,
     "metadata": {},
     "output_type": "execute_result"
    },
    {
     "data": {
      "image/png": "[encoded data removed]",
      "text/plain": [
       "<Figure size 640x480 with 1 Axes>"
      ]
     },
     "metadata": {},
     "output_type": "display_data"
    }
   ],
   "source": [
    "plt.bar(df_vidrio_it[\"Año\"], df_vidrio_it[\"Total (kg)\"], color=\"green\")\n",
    "plt.ylim(0, 12000000)\n",
    "plt.title(\"Residuos de Vidrio (Millones)\")\n",
    "plt.ylabel(\"Total (kg)\")\n",
    "plt.xlabel(\"Año\")\n",
    "plt.grid(axis=\"y\", linestyle=\"-\", alpha=0.7)\n",
    "plt.show"
   ]
  },
  {
   "cell_type": "markdown",
   "id": "033a7ebc",
   "metadata": {},
   "source": [
    "<h4> <span style=\"color:orange;\"><B>4.3 Gráfico de Residuos de plástico</span></h4>"
   ]
  },
  {
   "cell_type": "code",
   "execution_count": 25,
   "id": "08d5ca48",
   "metadata": {},
   "outputs": [],
   "source": [
    "df_plastico= df.query(\"Clasificación =='Plásticos' and Tipo=='Recogida selectiva'\")\n",
    "df_plastico_t = df_plastico.groupby(\"Año\")[\"Total (kg)\"].sum()\n",
    "df_plastico_it=df_plastico_t.reset_index()"
   ]
  },
  {
   "cell_type": "code",
   "execution_count": 33,
   "id": "49e84f41",
   "metadata": {},
   "outputs": [
    {
     "data": {
      "text/plain": [
       "<function matplotlib.pyplot.show(close=None, block=None)>"
      ]
     },
     "execution_count": 33,
     "metadata": {},
     "output_type": "execute_result"
    },
    {
     "data": {
      "image/png": "[encoded data removed]",
      "text/plain": [
       "<Figure size 640x480 with 1 Axes>"
      ]
     },
     "metadata": {},
     "output_type": "display_data"
    }
   ],
   "source": [
    "plt.bar(df_plastico_it[\"Año\"], df_plastico_it[\"Total (kg)\"], color=\"green\")\n",
    "plt.ylim(0, 250000)\n",
    "plt.title(\"Residuos de Plásticos (Kg)\")\n",
    "plt.ylabel(\"Total (kg)\")\n",
    "plt.xlabel(\"Año\")\n",
    "plt.grid(axis=\"y\", linestyle=\"-\", alpha=0.7)\n",
    "plt.show"
   ]
  },
  {
   "cell_type": "markdown",
   "id": "228f9111",
   "metadata": {},
   "source": [
    "<h4> <span style=\"color:orange;\"><B>4.3 Autocompostaje</span></h4>"
   ]
  },
  {
   "cell_type": "markdown",
   "id": "24ef8b90",
   "metadata": {},
   "source": [
    "En este primer gráfico vamos a ver la tendencia del uso del Autocompostaje."
   ]
  },
  {
   "cell_type": "code",
   "execution_count": 44,
   "id": "2fb02903",
   "metadata": {},
   "outputs": [],
   "source": [
    "df_recogida_au = df.query(\"Subclasificación == 'Autocompostaje'\")\n",
    "df_recogida_auc = df_recogida_au.groupby(\"Año\")[\"Total (kg)\"].sum()\n",
    "df_recogida_auc=df_recogida_auc.reset_index()\n"
   ]
  },
  {
   "cell_type": "code",
   "execution_count": 116,
   "id": "2dd12464",
   "metadata": {},
   "outputs": [
    {
     "data": {
      "text/plain": [
       "<function matplotlib.pyplot.show(close=None, block=None)>"
      ]
     },
     "execution_count": 116,
     "metadata": {},
     "output_type": "execute_result"
    },
    {
     "data": {
      "image/png": "[encoded data removed]",
      "text/plain": [
       "<Figure size 800x500 with 1 Axes>"
      ]
     },
     "metadata": {},
     "output_type": "display_data"
    }
   ],
   "source": [
    "plt.figure(figsize=(8,5))\n",
    "sns.lineplot(data=df_recogida_auc, x=\"Año\", y=\"Total (kg)\", marker=\"o\", color=\"Orange\", label=\"Tendencia de Autocompostaje\")\n",
    "plt.ylim(0, 800000)\n",
    "plt.title(\"Tendencia del Autocompostaje\")\n",
    "plt.ylabel(\"Total (kg)\")\n",
    "plt.xlabel(\"Año\")\n",
    "plt.grid(axis=\"y\", linestyle=\"-\", alpha=0.7)\n",
    "plt.show"
   ]
  },
  {
   "cell_type": "markdown",
   "id": "ebfeca8d",
   "metadata": {},
   "source": [
    "En este segundo gráfico vemos el total de residuos orgánicos recogidos, tanto urbanos como industriales.\n"
   ]
  },
  {
   "cell_type": "code",
   "execution_count": 43,
   "id": "aca7513e",
   "metadata": {},
   "outputs": [
    {
     "data": {
      "text/html": [
       "<div>\n",
       "<style scoped>\n",
       "    .dataframe tbody tr th:only-of-type {\n",
       "        vertical-align: middle;\n",
       "    }\n",
       "\n",
       "    .dataframe tbody tr th {\n",
       "        vertical-align: top;\n",
       "    }\n",
       "\n",
       "    .dataframe thead th {\n",
       "        text-align: right;\n",
       "    }\n",
       "</style>\n",
       "<table border=\"1\" class=\"dataframe\">\n",
       "  <thead>\n",
       "    <tr style=\"text-align: right;\">\n",
       "      <th></th>\n",
       "      <th>Año</th>\n",
       "      <th>Total (kg)</th>\n",
       "    </tr>\n",
       "  </thead>\n",
       "  <tbody>\n",
       "    <tr>\n",
       "      <th>0</th>\n",
       "      <td>2010</td>\n",
       "      <td>310340.0</td>\n",
       "    </tr>\n",
       "    <tr>\n",
       "      <th>1</th>\n",
       "      <td>2011</td>\n",
       "      <td>513494.0</td>\n",
       "    </tr>\n",
       "    <tr>\n",
       "      <th>2</th>\n",
       "      <td>2012</td>\n",
       "      <td>770690.0</td>\n",
       "    </tr>\n",
       "    <tr>\n",
       "      <th>3</th>\n",
       "      <td>2013</td>\n",
       "      <td>880360.0</td>\n",
       "    </tr>\n",
       "    <tr>\n",
       "      <th>4</th>\n",
       "      <td>2014</td>\n",
       "      <td>2397960.0</td>\n",
       "    </tr>\n",
       "    <tr>\n",
       "      <th>5</th>\n",
       "      <td>2015</td>\n",
       "      <td>5143710.0</td>\n",
       "    </tr>\n",
       "    <tr>\n",
       "      <th>6</th>\n",
       "      <td>2016</td>\n",
       "      <td>5240025.0</td>\n",
       "    </tr>\n",
       "    <tr>\n",
       "      <th>7</th>\n",
       "      <td>2017</td>\n",
       "      <td>5234598.0</td>\n",
       "    </tr>\n",
       "    <tr>\n",
       "      <th>8</th>\n",
       "      <td>2018</td>\n",
       "      <td>5521802.0</td>\n",
       "    </tr>\n",
       "    <tr>\n",
       "      <th>9</th>\n",
       "      <td>2019</td>\n",
       "      <td>5839634.0</td>\n",
       "    </tr>\n",
       "    <tr>\n",
       "      <th>10</th>\n",
       "      <td>2020</td>\n",
       "      <td>5218393.0</td>\n",
       "    </tr>\n",
       "    <tr>\n",
       "      <th>11</th>\n",
       "      <td>2021</td>\n",
       "      <td>5364931.0</td>\n",
       "    </tr>\n",
       "    <tr>\n",
       "      <th>12</th>\n",
       "      <td>2022</td>\n",
       "      <td>5323540.0</td>\n",
       "    </tr>\n",
       "    <tr>\n",
       "      <th>13</th>\n",
       "      <td>2023</td>\n",
       "      <td>5356030.0</td>\n",
       "    </tr>\n",
       "    <tr>\n",
       "      <th>14</th>\n",
       "      <td>2024</td>\n",
       "      <td>5450430.0</td>\n",
       "    </tr>\n",
       "  </tbody>\n",
       "</table>\n",
       "</div>"
      ],
      "text/plain": [
       "     Año  Total (kg)\n",
       "0   2010    310340.0\n",
       "1   2011    513494.0\n",
       "2   2012    770690.0\n",
       "3   2013    880360.0\n",
       "4   2014   2397960.0\n",
       "5   2015   5143710.0\n",
       "6   2016   5240025.0\n",
       "7   2017   5234598.0\n",
       "8   2018   5521802.0\n",
       "9   2019   5839634.0\n",
       "10  2020   5218393.0\n",
       "11  2021   5364931.0\n",
       "12  2022   5323540.0\n",
       "13  2023   5356030.0\n",
       "14  2024   5450430.0"
      ]
     },
     "execution_count": 43,
     "metadata": {},
     "output_type": "execute_result"
    }
   ],
   "source": [
    "df_organica = df.query(\"Tipo == 'Recogida selectiva' and Clasificación =='Orgánica'\")\n",
    "df_organica_o = df_organica.groupby(\"Año\")[\"Total (kg)\"].sum()\n",
    "df_organica_o=df_organica_o.reset_index()\n",
    "df_organica_o"
   ]
  },
  {
   "cell_type": "code",
   "execution_count": 42,
   "id": "77dddcbd",
   "metadata": {},
   "outputs": [
    {
     "data": {
      "text/plain": [
       "<function matplotlib.pyplot.show(close=None, block=None)>"
      ]
     },
     "execution_count": 42,
     "metadata": {},
     "output_type": "execute_result"
    },
    {
     "data": {
      "image/png": "[encoded data removed]",
      "text/plain": [
       "<Figure size 640x480 with 1 Axes>"
      ]
     },
     "metadata": {},
     "output_type": "display_data"
    }
   ],
   "source": [
    "\n",
    "plt.bar(df_organica_o[\"Año\"], df_organica_o[\"Total (kg)\"], color=\"green\")\n",
    "plt.ylim(0, 6000000)\n",
    "plt.title(\"Totales de residuos orgánicos (Millones)\")\n",
    "plt.ylabel(\"Total (kg)\")\n",
    "plt.xlabel(\"Año\")\n",
    "plt.grid(axis=\"y\", linestyle=\"-\", alpha=0.7)\n",
    "plt.show"
   ]
  },
  {
   "cell_type": "code",
   "execution_count": null,
   "id": "fa10be46",
   "metadata": {},
   "outputs": [
    {
     "data": {
      "text/plain": [
       "<function matplotlib.pyplot.show(close=None, block=None)>"
      ]
     },
     "execution_count": 45,
     "metadata": {},
     "output_type": "execute_result"
    },
    {
     "data": {
      "image/png": "[encoded data removed]",
      "text/plain": [
       "<Figure size 640x480 with 1 Axes>"
      ]
     },
     "metadata": {},
     "output_type": "display_data"
    }
   ],
   "source": [
    "df_combinado_residuos_au=pd.merge(df_recogida_auc, df_organica_o, on=\"Año\")\n",
    "df_combinado_residuos_au_filtrados=df_combinado_residuos_au[df_combinado_residuos_au[\"Año\"]>=(2024-5)]\n",
    "x=df_combinado_residuos_au_filtrados[\"Año\"]\n",
    "width = 0.30\n",
    "plt.bar(x-width/2, df_combinado_residuos_au_filtrados[\"Total (kg)_x\"], width, label=\"Autocompostaje\", color=\"black\")\n",
    "plt.bar(x+width/2, df_combinado_residuos_au_filtrados[\"Total (kg)_y\"], width, label=\"Orgánicos\", color=\"green\")\n",
    "plt.title(\"Comparación de residuos recogida de orgánico y el autocompostaje\")\n",
    "plt.ylabel(\"Total (kg)\")\n",
    "plt.xlabel(\"Año\")\n",
    "plt.xticks(x)\n",
    "plt.legend()\n",
    "plt.grid(axis=\"y\", linestyle=\"-\", alpha=0.7)\n",
    "plt.show"
   ]
  },
  {
   "cell_type": "code",
   "execution_count": 137,
   "id": "820625c0",
   "metadata": {},
   "outputs": [
    {
     "data": {
      "text/plain": [
       "np.float64(66305034.0)"
      ]
     },
     "execution_count": 137,
     "metadata": {},
     "output_type": "execute_result"
    }
   ],
   "source": [
    "#se va a calcular el porcentaje a autocompostaje con respecto al total.\n",
    "df_totales_o= df.query(\"Clasificación =='Orgánica'\")\n",
    "Total_Residuos_o=df_totales_o[\"Total (kg)\"].sum()\n",
    "df_totales_au=df.query(\"Subclasificación == 'Autocompostaje'\")\n",
    "Total_Residuos_au=df_totales_au[\"Total (kg)\"].sum()\n",
    "Totales = Total_Residuos_o+ Total_Residuos_au\n",
    "Totales"
   ]
  },
  {
   "cell_type": "code",
   "execution_count": 143,
   "id": "4871b4e8",
   "metadata": {},
   "outputs": [
    {
     "name": "stdout",
     "output_type": "stream",
     "text": [
      "De todos los residuos orgánicos generados, solo el  11.671959929920254 % es autocompostable\n"
     ]
    }
   ],
   "source": [
    "Porcentaje_autocompost=float(Total_Residuos_au/Totales)*100\n",
    "print(\"De todos los residuos orgánicos generados, solo el \", Porcentaje_autocompost, \"% es autocompostable\")"
   ]
  },
  {
   "cell_type": "markdown",
   "id": "5b8b8445",
   "metadata": {},
   "source": [
    "<h3><u>5. Gráficas generales año 2024</u></h3>"
   ]
  },
  {
   "cell_type": "code",
   "execution_count": 51,
   "id": "c76d2d8a",
   "metadata": {},
   "outputs": [
    {
     "data": {
      "text/plain": [
       "np.float64(447.68764220659835)"
      ]
     },
     "execution_count": 51,
     "metadata": {},
     "output_type": "execute_result"
    }
   ],
   "source": [
    "#Se ha buscado en internet la población del año 2024 para hacer operaciones de cálculo.\n",
    "poblacion=188743\n",
    "poblacion_14 = 186095\n",
    "#Cálculo kgs de residuos por habitante.\n",
    "Total_general = df[df[\"Año\"]== 2024][\"Total (kg)\"].sum()\n",
    "Total_general_poblacion = Total_general/poblacion\n",
    "Total_general_poblacion\n"
   ]
  },
  {
   "cell_type": "code",
   "execution_count": 52,
   "id": "99cac752",
   "metadata": {},
   "outputs": [
    {
     "data": {
      "text/plain": [
       "np.float64(454.0579201644321)"
      ]
     },
     "execution_count": 52,
     "metadata": {},
     "output_type": "execute_result"
    }
   ],
   "source": [
    "Total_general_10 = df[df[\"Año\"]== 2014][\"Total (kg)\"].sum()\n",
    "Total_general_poblacion_10 = Total_general/poblacion_14\n",
    "Total_general_poblacion_10"
   ]
  },
  {
   "cell_type": "code",
   "execution_count": 53,
   "id": "52b32c37",
   "metadata": {},
   "outputs": [
    {
     "data": {
      "text/html": [
       "<div>\n",
       "<style scoped>\n",
       "    .dataframe tbody tr th:only-of-type {\n",
       "        vertical-align: middle;\n",
       "    }\n",
       "\n",
       "    .dataframe tbody tr th {\n",
       "        vertical-align: top;\n",
       "    }\n",
       "\n",
       "    .dataframe thead th {\n",
       "        text-align: right;\n",
       "    }\n",
       "</style>\n",
       "<table border=\"1\" class=\"dataframe\">\n",
       "  <thead>\n",
       "    <tr style=\"text-align: right;\">\n",
       "      <th></th>\n",
       "      <th>Año</th>\n",
       "      <th>Total (kg)</th>\n",
       "      <th>Población</th>\n",
       "      <th>Kg/persona</th>\n",
       "    </tr>\n",
       "  </thead>\n",
       "  <tbody>\n",
       "    <tr>\n",
       "      <th>0</th>\n",
       "      <td>2020</td>\n",
       "      <td>3.467605e+07</td>\n",
       "      <td>186095</td>\n",
       "      <td>186.335200</td>\n",
       "    </tr>\n",
       "    <tr>\n",
       "      <th>1</th>\n",
       "      <td>2024</td>\n",
       "      <td>3.554141e+07</td>\n",
       "      <td>188743</td>\n",
       "      <td>188.305837</td>\n",
       "    </tr>\n",
       "  </tbody>\n",
       "</table>\n",
       "</div>"
      ],
      "text/plain": [
       "    Año    Total (kg)  Población  Kg/persona\n",
       "0  2020  3.467605e+07     186095  186.335200\n",
       "1  2024  3.554141e+07     188743  188.305837"
      ]
     },
     "execution_count": 53,
     "metadata": {},
     "output_type": "execute_result"
    }
   ],
   "source": [
    "df_filtrado_años=(df[\"Año\"].isin([2020,2024])) & (df[\"Tipo\"]==\"Recogida selectiva\")\n",
    "df_selectiva = df[df_filtrado_años]\n",
    "df_selectiva_agrupado = df_selectiva.groupby(\"Año\")[\"Total (kg)\"].sum().reset_index()\n",
    "df_selectiva_agrupado[\"Población\"]=[186095,188743]\n",
    "df_selectiva_agrupado[\"Kg/persona\"]=df_selectiva_agrupado[\"Total (kg)\"]/df_selectiva_agrupado[\"Población\"]\n",
    "df_selectiva_agrupado"
   ]
  },
  {
   "cell_type": "code",
   "execution_count": 54,
   "id": "addb74f6",
   "metadata": {},
   "outputs": [
    {
     "data": {
      "text/plain": [
       "<function matplotlib.pyplot.show(close=None, block=None)>"
      ]
     },
     "execution_count": 54,
     "metadata": {},
     "output_type": "execute_result"
    },
    {
     "data": {
      "image/png": "[encoded data removed]",
      "text/plain": [
       "<Figure size 640x480 with 1 Axes>"
      ]
     },
     "metadata": {},
     "output_type": "display_data"
    }
   ],
   "source": [
    "#Grafica comparativa de 10 años.\n",
    "x=df_selectiva_agrupado[\"Año\"]\n",
    "plt.bar(df_selectiva_agrupado[\"Año\"],df_selectiva_agrupado[\"Kg/persona\"], width=3, color=\"Orange\", alpha=0.8)\n",
    "plt.xticks(x)\n",
    "plt.title(\"Comparación recogida selectiva\")\n",
    "plt.ylabel(\"Kg/persona\")\n",
    "plt.xlabel(\"Año\")\n",
    "plt.grid(axis=\"y\", linestyle=\"-\", alpha=0.7)\n",
    "plt.show"
   ]
  },
  {
   "cell_type": "markdown",
   "id": "e8198be8",
   "metadata": {},
   "source": []
  }
 ],
 "metadata": {
  "kernelspec": {
   "display_name": "Python 3",
   "language": "python",
   "name": "python3"
  },
  "language_info": {
   "codemirror_mode": {
    "name": "ipython",
    "version": 3
   },
   "file_extension": ".py",
   "mimetype": "text/x-python",
   "name": "python",
   "nbconvert_exporter": "python",
   "pygments_lexer": "ipython3",
   "version": "3.11.0"
  }
 },
 "nbformat": 4,
 "nbformat_minor": 5
}
